{
 "cells": [
  {
   "cell_type": "code",
   "execution_count": 32,
   "metadata": {
    "hideCode": true,
    "hidePrompt": true,
    "slideshow": {
     "slide_type": "skip"
    }
   },
   "outputs": [],
   "source": [
    "import pandas as pd\n",
    "import pandas as pd\n",
    "import numpy as np\n",
    "import matplotlib.pyplot as plt\n",
    "import seaborn as sns\n",
    "from scipy import stats\n",
    "import statsmodels.api as sm\n",
    "import statsmodels.formula.api as smf"
   ]
  },
  {
   "cell_type": "markdown",
   "metadata": {
    "hideCode": true,
    "hidePrompt": true,
    "slideshow": {
     "slide_type": "slide"
    }
   },
   "source": [
    "# Fuel Economy Across Global Car-Producing Regions\n",
    "\n",
    "### Group Members\n",
    "\n",
    "Joshlyn Jamerson, Bob Ebend, Travis Lindeman, Austin Youngblood"
   ]
  },
  {
   "cell_type": "markdown",
   "metadata": {
    "hideCode": true,
    "hidePrompt": true,
    "slideshow": {
     "slide_type": "notes"
    }
   },
   "source": [
    "This notebook presents an analysis of a dataset containing information on various vehicles manufactured from 1970 through 1982. The dataset includes features such as miles per gallon (mpg), the number of cylinders, horsepower, weight, acceleration, model year, country of origin, and car description."
   ]
  },
  {
   "cell_type": "code",
   "execution_count": 33,
   "metadata": {
    "hideCode": true,
    "hidePrompt": true,
    "slideshow": {
     "slide_type": "skip"
    }
   },
   "outputs": [
    {
     "data": {
      "text/html": [
       "<div>\n",
       "<style scoped>\n",
       "    .dataframe tbody tr th:only-of-type {\n",
       "        vertical-align: middle;\n",
       "    }\n",
       "\n",
       "    .dataframe tbody tr th {\n",
       "        vertical-align: top;\n",
       "    }\n",
       "\n",
       "    .dataframe thead th {\n",
       "        text-align: right;\n",
       "    }\n",
       "</style>\n",
       "<table border=\"1\" class=\"dataframe\">\n",
       "  <thead>\n",
       "    <tr style=\"text-align: right;\">\n",
       "      <th></th>\n",
       "      <th>mpg</th>\n",
       "      <th>cylinders</th>\n",
       "      <th>displacement</th>\n",
       "      <th>horsepower</th>\n",
       "      <th>weight</th>\n",
       "      <th>acceleration</th>\n",
       "      <th>model</th>\n",
       "      <th>origin</th>\n",
       "      <th>car_name</th>\n",
       "      <th>Region</th>\n",
       "    </tr>\n",
       "  </thead>\n",
       "  <tbody>\n",
       "    <tr>\n",
       "      <th>0</th>\n",
       "      <td>18.0</td>\n",
       "      <td>8</td>\n",
       "      <td>307.0</td>\n",
       "      <td>130.0</td>\n",
       "      <td>3504.0</td>\n",
       "      <td>12.0</td>\n",
       "      <td>70</td>\n",
       "      <td>1</td>\n",
       "      <td>chevrolet chevelle malibu</td>\n",
       "      <td>USA</td>\n",
       "    </tr>\n",
       "    <tr>\n",
       "      <th>1</th>\n",
       "      <td>15.0</td>\n",
       "      <td>8</td>\n",
       "      <td>350.0</td>\n",
       "      <td>165.0</td>\n",
       "      <td>3693.0</td>\n",
       "      <td>11.5</td>\n",
       "      <td>70</td>\n",
       "      <td>1</td>\n",
       "      <td>buick skylark 320</td>\n",
       "      <td>USA</td>\n",
       "    </tr>\n",
       "    <tr>\n",
       "      <th>2</th>\n",
       "      <td>18.0</td>\n",
       "      <td>8</td>\n",
       "      <td>318.0</td>\n",
       "      <td>150.0</td>\n",
       "      <td>3436.0</td>\n",
       "      <td>11.0</td>\n",
       "      <td>70</td>\n",
       "      <td>1</td>\n",
       "      <td>plymouth satellite</td>\n",
       "      <td>USA</td>\n",
       "    </tr>\n",
       "    <tr>\n",
       "      <th>3</th>\n",
       "      <td>16.0</td>\n",
       "      <td>8</td>\n",
       "      <td>304.0</td>\n",
       "      <td>150.0</td>\n",
       "      <td>3433.0</td>\n",
       "      <td>12.0</td>\n",
       "      <td>70</td>\n",
       "      <td>1</td>\n",
       "      <td>amc rebel sst</td>\n",
       "      <td>USA</td>\n",
       "    </tr>\n",
       "    <tr>\n",
       "      <th>4</th>\n",
       "      <td>17.0</td>\n",
       "      <td>8</td>\n",
       "      <td>302.0</td>\n",
       "      <td>140.0</td>\n",
       "      <td>3449.0</td>\n",
       "      <td>10.5</td>\n",
       "      <td>70</td>\n",
       "      <td>1</td>\n",
       "      <td>ford torino</td>\n",
       "      <td>USA</td>\n",
       "    </tr>\n",
       "  </tbody>\n",
       "</table>\n",
       "</div>"
      ],
      "text/plain": [
       "    mpg  cylinders  displacement horsepower  weight  acceleration  model  \\\n",
       "0  18.0          8         307.0      130.0  3504.0          12.0     70   \n",
       "1  15.0          8         350.0      165.0  3693.0          11.5     70   \n",
       "2  18.0          8         318.0      150.0  3436.0          11.0     70   \n",
       "3  16.0          8         304.0      150.0  3433.0          12.0     70   \n",
       "4  17.0          8         302.0      140.0  3449.0          10.5     70   \n",
       "\n",
       "   origin                   car_name Region  \n",
       "0       1  chevrolet chevelle malibu    USA  \n",
       "1       1          buick skylark 320    USA  \n",
       "2       1         plymouth satellite    USA  \n",
       "3       1              amc rebel sst    USA  \n",
       "4       1                ford torino    USA  "
      ]
     },
     "execution_count": 33,
     "metadata": {},
     "output_type": "execute_result"
    }
   ],
   "source": [
    "# Load the dataset\n",
    "df = pd.read_csv('../stats_case_study/data/cars.csv')\n",
    "\n",
    "# Map the origin to the corresponding region\n",
    "df['Region'] = df['origin'].map({1: 'USA', 2: 'Europe', 3: 'Asia'})\n",
    "\n",
    "# Display the first few rows of the dataframe\n",
    "df.head()"
   ]
  },
  {
   "cell_type": "markdown",
   "metadata": {
    "hideCode": true,
    "hidePrompt": true,
    "slideshow": {
     "slide_type": "skip"
    }
   },
   "source": [
    "## Exploratory Data Analysis (EDA)\n",
    "\n",
    "The dataset showed that we were looking at 398 rows of data across 9 columns"
   ]
  },
  {
   "cell_type": "code",
   "execution_count": 35,
   "metadata": {
    "hideCode": true,
    "hidePrompt": true,
    "slideshow": {
     "slide_type": "skip"
    }
   },
   "outputs": [
    {
     "data": {
      "text/plain": [
       "count    398.000000\n",
       "mean      23.514573\n",
       "std        7.815984\n",
       "min        9.000000\n",
       "25%       17.500000\n",
       "50%       23.000000\n",
       "75%       29.000000\n",
       "max       46.600000\n",
       "Name: mpg, dtype: float64"
      ]
     },
     "execution_count": 35,
     "metadata": {},
     "output_type": "execute_result"
    }
   ],
   "source": [
    "# Generate descriptive statistics for the 'mpg' variable\n",
    "df['mpg'].describe()"
   ]
  },
  {
   "cell_type": "markdown",
   "metadata": {
    "hideCode": true,
    "hidePrompt": true,
    "slideshow": {
     "slide_type": "notes"
    }
   },
   "source": [
    "Before we perform the hypothesis test, let's first explore the data to understand its characteristics. This will involve generating descriptive statistics and visualizing the distributions of the variables of interest.\n",
    "\n",
    "Raw numbers for potential questions:\n",
    "\n",
    "\n",
    "count    398.000000\n",
    "mean      23.514573\n",
    "std        7.815984\n",
    "min        9.000000\n",
    "25%       17.500000\n",
    "50%       23.000000\n",
    "75%       29.000000\n",
    "max       46.600000\n",
    "Name: mpg, dtype: float64"
   ]
  },
  {
   "cell_type": "markdown",
   "metadata": {
    "hideCode": true,
    "hidePrompt": true,
    "slideshow": {
     "slide_type": "notes"
    }
   },
   "source": [
    "We'll focus on the 'mpg' and 'origin' variables, as these are the variables relevant to our hypothesis. The 'mpg' variable is a numerical variable that represents the miles per gallon of the vehicles, and the 'origin' variable is a categorical variable that represents the region where the vehicles were manufactured."
   ]
  },
  {
   "cell_type": "markdown",
   "metadata": {
    "hideCode": true,
    "hidePrompt": true,
    "slideshow": {
     "slide_type": "slide"
    }
   },
   "source": [
    "## Statistical Hypothesis Testing\n",
    "\n",
    "### These are the steps we followed for our hypothesis testing\n",
    "\n",
    "1. **State the hypotheses.** \n",
    "\n",
    "2. **Formulate an analysis plan.** \n",
    "\n",
    "3. **Analyze sample data.** \n",
    "\n",
    "4. **Interpret the results.** "
   ]
  },
  {
   "cell_type": "markdown",
   "metadata": {
    "hideCode": true,
    "hidePrompt": true,
    "slideshow": {
     "slide_type": "notes"
    }
   },
   "source": [
    "These are the steps we followed to establish and test our hypothesis. \n",
    "\n",
    "The hypothesis is not only the driving factor behind our study, but also the mathematical definition that provides the formula's backbone.\n",
    "\n",
    "We will perform a one-way ANOVA test to determine whether there are significant differences in the mean mpg for cars from different regions.\n",
    "\n",
    "For this analysis, the significance level is defined as 0.05. We analyzed the sample data with the test statistic as the F statistic, which follows an F distribution which we then plugged into Cohen's test for d. All of which facilitated the completion of the ANOVA test and allowed us to make a strong argument for our conclusion. \n"
   ]
  },
  {
   "cell_type": "markdown",
   "metadata": {
    "hideCode": true,
    "hidePrompt": true,
    "slideshow": {
     "slide_type": "slide"
    }
   },
   "source": [
    "## Hypotheses\n",
    "\n",
    "Null Hypothesis ($H_0$): The average fuel economy for cars from all regions (USA, Europe, and Asia) are equal.\n",
    "\n",
    "$$\n",
    "\\mu_{\\text{USA}} = \\mu_{\\text{Europe}} = \\mu_{\\text{Asia}}\n",
    "$$\n",
    "\n",
    "Alternate Hypothesis ($H_a$): At least one region has a different average fuel economy from the others.\n",
    "\n",
    "$$\n",
    "\\mu_{\\text{USA}} \\neq \\mu_{\\text{Europe}} \\neq \\mu_{\\text{Asia}}\n",
    "$$"
   ]
  },
  {
   "cell_type": "markdown",
   "metadata": {
    "hideCode": true,
    "hidePrompt": true,
    "slideshow": {
     "slide_type": "notes"
    }
   },
   "source": [
    "In plain language, this slide says that our group posits that there is a relationship between fuel economy and the region where the vehicle was built.\n",
    "\n",
    "In the following sections, we will perform an exploratory data analysis, followed by a statistical test (one-way ANOVA) to test this hypothesis."
   ]
  },
  {
   "cell_type": "code",
   "execution_count": 38,
   "metadata": {
    "hideCode": true,
    "hidePrompt": true,
    "scrolled": true,
    "slideshow": {
     "slide_type": "skip"
    }
   },
   "outputs": [
    {
     "name": "stderr",
     "output_type": "stream",
     "text": [
      "C:\\Users\\austi\\anaconda3\\lib\\site-packages\\numpy\\core\\fromnumeric.py:3571: FutureWarning: The default value of numeric_only in DataFrame.std is deprecated. In a future version, it will default to False. In addition, specifying 'numeric_only=None' is deprecated. Select only valid columns or specify the value of numeric_only to silence this warning.\n",
      "  return std(axis=axis, dtype=dtype, out=out, ddof=ddof, **kwargs)\n"
     ]
    }
   ],
   "source": [
    "n = len(df) # We will also need n for each region later\n",
    "\n",
    "alpha = 0.05\n",
    "\n",
    "sigma = np.std(df, ddof=1) # This will need to be calculated for each region as well\n",
    "\n",
    "se = sigma / np.sqrt(n) # Same as above"
   ]
  },
  {
   "cell_type": "markdown",
   "metadata": {
    "hideCode": true,
    "hidePrompt": true,
    "slideshow": {
     "slide_type": "slide"
    }
   },
   "source": [
    "# Analyze Sample Data"
   ]
  },
  {
   "cell_type": "markdown",
   "metadata": {
    "hideCode": true,
    "hidePrompt": true,
    "slideshow": {
     "slide_type": "slide"
    }
   },
   "source": [
    "## Dependent Variable"
   ]
  },
  {
   "cell_type": "code",
   "execution_count": 36,
   "metadata": {
    "hideCode": true,
    "hidePrompt": true,
    "scrolled": false,
    "slideshow": {
     "slide_type": "-"
    }
   },
   "outputs": [
    {
     "data": {
      "image/png": "[encoded data removed]",
      "text/plain": [
       "<Figure size 800x600 with 1 Axes>"
      ]
     },
     "metadata": {},
     "output_type": "display_data"
    }
   ],
   "source": [
    "# Generate a histogram for the 'mpg' variable\n",
    "plt.figure(figsize=(8, 6))\n",
    "sns.histplot(df['mpg'], kde=True, bins=20)\n",
    "# plt.title('Histogram of MPG')\n",
    "plt.xlabel('Miles Per Gallon')\n",
    "plt.ylabel('Frequency')\n",
    "plt.show()"
   ]
  },
  {
   "cell_type": "markdown",
   "metadata": {
    "hideCode": true,
    "hidePrompt": true,
    "slideshow": {
     "slide_type": "slide"
    }
   },
   "source": [
    "## Independent Variables"
   ]
  },
  {
   "cell_type": "code",
   "execution_count": 44,
   "metadata": {
    "hideCode": true,
    "hidePrompt": true,
    "slideshow": {
     "slide_type": "-"
    }
   },
   "outputs": [
    {
     "data": {
      "image/png": "[encoded data removed]",
      "text/plain": [
       "<Figure size 800x600 with 1 Axes>"
      ]
     },
     "metadata": {},
     "output_type": "display_data"
    }
   ],
   "source": [
    "plt.figure(figsize=(8, 6))\n",
    "df[df['origin'] == 1]['mpg'].hist(alpha=0.7, label='USA', bins=30)\n",
    "df[df['origin'] == 2]['mpg'].hist(alpha=0.7, label='Europe', bins=30)\n",
    "df[df['origin'] == 3]['mpg'].hist(alpha=0.7, label='Asia', bins=30)\n",
    "plt.title('Distribution of Fuel Efficiency by Region of Origin', fontsize=16)\n",
    "plt.xlabel('Fuel Efficiency (MPG)', fontsize=14)\n",
    "plt.ylabel('Frequency', fontsize=14)\n",
    "plt.legend()\n",
    "plt.grid(True)\n",
    "plt.show()"
   ]
  },
  {
   "cell_type": "code",
   "execution_count": 39,
   "metadata": {
    "hideCode": true,
    "hidePrompt": true,
    "scrolled": true,
    "slideshow": {
     "slide_type": "skip"
    }
   },
   "outputs": [
    {
     "data": {
      "text/html": [
       "<div>\n",
       "<style scoped>\n",
       "    .dataframe tbody tr th:only-of-type {\n",
       "        vertical-align: middle;\n",
       "    }\n",
       "\n",
       "    .dataframe tbody tr th {\n",
       "        vertical-align: top;\n",
       "    }\n",
       "\n",
       "    .dataframe thead th {\n",
       "        text-align: right;\n",
       "    }\n",
       "</style>\n",
       "<table border=\"1\" class=\"dataframe\">\n",
       "  <thead>\n",
       "    <tr style=\"text-align: right;\">\n",
       "      <th></th>\n",
       "      <th>sum_sq</th>\n",
       "      <th>df</th>\n",
       "      <th>F</th>\n",
       "      <th>PR(&gt;F)</th>\n",
       "    </tr>\n",
       "  </thead>\n",
       "  <tbody>\n",
       "    <tr>\n",
       "      <th>C(origin)</th>\n",
       "      <td>8072.820662</td>\n",
       "      <td>2.0</td>\n",
       "      <td>98.541795</td>\n",
       "      <td>1.915486e-35</td>\n",
       "    </tr>\n",
       "    <tr>\n",
       "      <th>Residual</th>\n",
       "      <td>16179.754815</td>\n",
       "      <td>395.0</td>\n",
       "      <td>NaN</td>\n",
       "      <td>NaN</td>\n",
       "    </tr>\n",
       "  </tbody>\n",
       "</table>\n",
       "</div>"
      ],
      "text/plain": [
       "                 sum_sq     df          F        PR(>F)\n",
       "C(origin)   8072.820662    2.0  98.541795  1.915486e-35\n",
       "Residual   16179.754815  395.0        NaN           NaN"
      ]
     },
     "execution_count": 39,
     "metadata": {},
     "output_type": "execute_result"
    }
   ],
   "source": [
    "# Fit the model using a formula string\n",
    "model = smf.ols('mpg ~ C(origin)', data=df).fit()\n",
    "\n",
    "# Perform the one-way ANOVA test\n",
    "anova_result = sm.stats.anova_lm(model, typ=2)\n",
    "\n",
    "# Display the ANOVA table\n",
    "anova_result"
   ]
  },
  {
   "cell_type": "markdown",
   "metadata": {},
   "source": [
    "## Deeper Analysis"
   ]
  },
  {
   "cell_type": "markdown",
   "metadata": {
    "hideCode": true,
    "hidePrompt": true,
    "slideshow": {
     "slide_type": "slide"
    }
   },
   "source": [
    "# Interpretation of Results and Conclusion\n",
    "F statistic: 98.54\n",
    "\n",
    "p value: 1.91e-35"
   ]
  },
  {
   "cell_type": "code",
   "execution_count": 43,
   "metadata": {
    "hideCode": true,
    "hidePrompt": true,
    "slideshow": {
     "slide_type": "-"
    }
   },
   "outputs": [
    {
     "data": {
      "image/png": "[encoded data removed]",
      "text/plain": [
       "<Figure size 800x600 with 1 Axes>"
      ]
     },
     "metadata": {},
     "output_type": "display_data"
    }
   ],
   "source": [
    "# Generate box plots of the mpg values for each region\n",
    "plt.figure(figsize=(8, 6))\n",
    "sns.boxplot(x='Region', y='mpg', data=df)\n",
    "# plt.title('MPG by Region')\n",
    "plt.xlabel('Region')\n",
    "plt.ylabel('MPG')\n",
    "plt.show()"
   ]
  },
  {
   "cell_type": "markdown",
   "metadata": {
    "hideCode": true,
    "hidePrompt": true,
    "slideshow": {
     "slide_type": "notes"
    }
   },
   "source": [
    "As Joshlyn spoke about earlier, we used an ANOVA test because we had more than one independent variable. Within that test, we used Cohen's d test to establish the most appropriate variation to compare all three variables against. By using the largest variance from zero, we knew we could confidently proceed with an analysis which encapsulated all of the variables. \n",
    "\n",
    "The one-way ANOVA test results are presented on the slide: The F statistic is 98.54 and the P-value is extremely small (almost zero). Since this p-value is well below our max threshold of .05, we can reject the null hypothesis by this alone. \n",
    "\n",
    "These box plots further represent the test results from our data. The box represents the interquartile range (IQR), which is the range between the first quartile (25th percentile) and the third quartile (75th percentile). The line inside the box is the median (50th percentile), and the whiskers represent the range of values within 1.5 times the IQR from the first and third quartiles. Outliers are represented as individual points outside the whiskers. \n",
    "\n",
    "From the box plots, we can see that cars from Asia and Europe tend to have higher mpg values compared to cars from the USA. This visual representation supports our earlier conclusion from the one-way ANOVA test that the region where a car is made has a significant effect on its fuel efficiency. If the opposite were true, we would expect to see thes box plots at more similar elevations and with more similar features than they do have. "
   ]
  },
  {
   "cell_type": "markdown",
   "metadata": {},
   "source": []
  }
 ],
 "metadata": {
  "celltoolbar": "Slideshow",
  "hide_code_all_hidden": true,
  "kernelspec": {
   "display_name": "Python 3 (ipykernel)",
   "language": "python",
   "name": "python3"
  },
  "language_info": {
   "codemirror_mode": {
    "name": "ipython",
    "version": 3
   },
   "file_extension": ".py",
   "mimetype": "text/x-python",
   "name": "python",
   "nbconvert_exporter": "python",
   "pygments_lexer": "ipython3",
   "version": "3.10.9"
  },
  "varInspector": {
   "cols": {
    "lenName": 16,
    "lenType": 16,
    "lenVar": 40
   },
   "kernels_config": {
    "python": {
     "delete_cmd_postfix": "",
     "delete_cmd_prefix": "del ",
     "library": "var_list.py",
     "varRefreshCmd": "print(var_dic_list())"
    },
    "r": {
     "delete_cmd_postfix": ") ",
     "delete_cmd_prefix": "rm(",
     "library": "var_list.r",
     "varRefreshCmd": "cat(var_dic_list()) "
    }
   },
   "types_to_exclude": [
    "module",
    "function",
    "builtin_function_or_method",
    "instance",
    "_Feature"
   ],
   "window_display": false
  }
 },
 "nbformat": 4,
 "nbformat_minor": 2
}
